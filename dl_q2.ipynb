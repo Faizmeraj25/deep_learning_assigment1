{
  "nbformat": 4,
  "nbformat_minor": 0,
  "metadata": {
    "colab": {
      "provenance": [],
      "authorship_tag": "ABX9TyO9O5qrgE2BEm6OKnpJcqrL",
      "include_colab_link": true
    },
    "kernelspec": {
      "name": "python3",
      "display_name": "Python 3"
    },
    "language_info": {
      "name": "python"
    }
  },
  "cells": [
    {
      "cell_type": "markdown",
      "metadata": {
        "id": "view-in-github",
        "colab_type": "text"
      },
      "source": [
        "<a href=\"https://colab.research.google.com/github/Faizmeraj25/deep_learning_assigment1/blob/main/dl_q2.ipynb\" target=\"_parent\"><img src=\"https://colab.research.google.com/assets/colab-badge.svg\" alt=\"Open In Colab\"/></a>"
      ]
    },
    {
      "cell_type": "code",
      "execution_count": 2,
      "metadata": {
        "id": "U6m6A_sxA1dD",
        "colab": {
          "base_uri": "https://localhost:8080/"
        },
        "outputId": "31ec0acc-301c-4f24-b5e7-ec825d5841ba"
      },
      "outputs": [
        {
          "output_type": "stream",
          "name": "stdout",
          "text": [
            "Downloading data from https://storage.googleapis.com/tensorflow/tf-keras-datasets/train-labels-idx1-ubyte.gz\n",
            "29515/29515 [==============================] - 0s 0us/step\n",
            "Downloading data from https://storage.googleapis.com/tensorflow/tf-keras-datasets/train-images-idx3-ubyte.gz\n",
            "26421880/26421880 [==============================] - 0s 0us/step\n",
            "Downloading data from https://storage.googleapis.com/tensorflow/tf-keras-datasets/t10k-labels-idx1-ubyte.gz\n",
            "5148/5148 [==============================] - 0s 0us/step\n",
            "Downloading data from https://storage.googleapis.com/tensorflow/tf-keras-datasets/t10k-images-idx3-ubyte.gz\n",
            "4422102/4422102 [==============================] - 0s 0us/step\n"
          ]
        }
      ],
      "source": [
        "import numpy as np \n",
        "import pandas as pd\n",
        "import math\n",
        "import matplotlib.pyplot as plt\n",
        "from keras.datasets import fashion_mnist\n",
        "import tensorflow as tf\n",
        "(x_train, y_train), (x_test, y_test) = fashion_mnist.load_data()\n",
        "x_train = x_train / 255\n",
        "x_test = x_test / 255\n",
        "x_train = x_train.reshape(x_train.shape[0], -1)\n",
        "x_test = x_test.reshape(x_test.shape[0], -1)\n"
      ]
    },
    {
      "cell_type": "code",
      "source": [
        "print(x_test.shape)"
      ],
      "metadata": {
        "id": "Xz9hOc4JBc2H",
        "colab": {
          "base_uri": "https://localhost:8080/"
        },
        "outputId": "fddbba16-8493-4963-b33c-b27c1d4cfdcb"
      },
      "execution_count": null,
      "outputs": [
        {
          "output_type": "stream",
          "name": "stdout",
          "text": [
            "(10000, 784)\n"
          ]
        }
      ]
    },
    {
      "cell_type": "code",
      "source": [
        "class NN: \n",
        "  # instantiate the weights and biases with random numbers. \n",
        "  def __init__(self, size, wt_initialisation): \n",
        "    self.W= [] \n",
        "    self.B = [] \n",
        "    self.preactivation = []\n",
        "    self.activation = []\n",
        "    if wt_initialisation.lower() == \"xavier\":\n",
        "      for i in range(1, len(size)):\n",
        "        n = np.sqrt(6 / (size[i] + size[i-1]))\n",
        "        w = np.random.uniform(-n , n, (size[i], size[i-1]))\n",
        "        b = np.random.uniform(-n , n, (size[i])) \n",
        "        self.W.append(w)\n",
        "        self.B.append(b)\n",
        "    # Random Initialisation\n",
        "    else: \n",
        "      for i in range(1, len(size)):\n",
        "        w = np.random.rand(size[i], size[i-1]) /(np.sqrt(size[i]))\n",
        "        b = np.random.rand(size[i]) \n",
        "        self.W.append(w)\n",
        "        self.B.append(b)\n",
        "\n",
        "\n",
        "###############################################################\n",
        "  def normalize(self, x):\n",
        "    for i in range(x.shape[0]):\n",
        "      argmax = np.argmax(x[i])\n",
        "      maxval = x[i][argmax]\n",
        "      x[i] = (x[i])/(maxval)\n",
        "    return x\n",
        "###############################################################\n",
        "\n",
        "  def sigmoid(self, x): \n",
        "    return 1/(1 + np.exp(-x))\n",
        "\n",
        "###############################################################\n",
        "\n",
        "  def sigmoid_derivative(self, x):\n",
        "    sig = self.sigmoid(x)\n",
        "    return sig*(1-sig)\n",
        "\n",
        "###############################################################\n",
        "\n",
        "  def relu(self, x): \n",
        "    return np.maximum(0, x)\n",
        "\n",
        "###############################################################\n",
        "\n",
        "  def relu_derivative(self, x):\n",
        "    return np.max(np.sign(x),0)\n",
        "\n",
        "\n",
        "###############################################################\n",
        "    \n",
        "  def tanh(self, x): \n",
        "    return np.tanh(x)\n",
        "\n",
        "###############################################################\n",
        "\n",
        "  def tanh_derivative(self, x):\n",
        "    t = np.tanh(x)\n",
        "    return 1 - t*t\n",
        "\n",
        "###############################################################\n",
        "\n",
        "  def softmax(self, x):\n",
        "    for i in range(x.shape[0]):\n",
        "      sum=0\n",
        "      for j in range(x.shape[1]):\n",
        "        sum=sum+np.exp(x[i][j])\n",
        "      x[i]=np.exp(x[i])/sum\n",
        "    return x\n",
        "\n",
        "###############################################################\n",
        "\n",
        "  def one_hot_encoded(self, y, size):\n",
        "    return np.eye(size)[y]\n",
        "\n",
        "###############################################################\n",
        "\n",
        "  def cross_entropy(self, y_train, y_hat):\n",
        "    loss=0\n",
        "    for i in range (y_hat.shape[0]):\n",
        "      loss+=-(np.log2(y_hat[i][y_train[i]]))\n",
        "    return loss/y_hat.shape[0]\n",
        "\n",
        "###############################################################\n",
        "\n",
        "  def hadmard_mul(self, a, b):\n",
        "    c = np.array(np.zeros((a.shape[0],a.shape[1])))\n",
        "    for i in range(a.shape[0]):\n",
        "      for j in range(a.shape[1]):\n",
        "        c[i][j] = a[i][j] * b[i][j]\n",
        "    return c\n",
        "\n",
        "###############################################################\n",
        "  def batch_converter(self, x, y, batch_size):\n",
        "    no_datapoints = x.shape[0]\n",
        "    no_batches = no_datapoints // batch_size\n",
        "    x_batch = []\n",
        "    y_batch = []\n",
        "    for i in range(no_batches):\n",
        "      s = i*batch_size\n",
        "      e = min((i+1)*batch_size , x.shape[0])\n",
        "      x1 = np.array(x[s:e])\n",
        "      y1 = np.array(y[s:e])\n",
        "      x_batch.append(x1)\n",
        "      y_batch.append(y1)\n",
        "    # jo datapoints last me bach jayenge wo yaha pe add kr rhe\n",
        "    if no_batches * batch_size < x_train.shape[0]:\n",
        "      x1 = np.array(x_train[no_batches* batch_size :])\n",
        "      y1 = np.array(y_train[no_batches* batch_size :])\n",
        "      x_batch.append(x1)\n",
        "      y_batch.append(y1)\n",
        "    return x_batch, y_batch\n",
        "\n",
        "\n",
        "###############################################################\n",
        "\n",
        "  def forward(self, input, size, activation_function = \"sigmoid\"):\n",
        "    # Calculating for the hiddlen layers\n",
        "    for i in range(len(size)-2):\n",
        "      Y = np.dot(input, self.W[i].T)   + self.B[i]\n",
        "      if i == 0 and activation_function.lower() == \"relu\":\n",
        "        Y= self.normalize(Y)\n",
        "      elif activation_function.lower() == \"tanh\":\n",
        "        Y = self.normalize(Y)\n",
        "      if i < len(self.preactivation):\n",
        "        self.preactivation[i] = Y\n",
        "      else:\n",
        "        self.preactivation.append(Y)\n",
        "      # Y_dash = self.normalize(Y)\n",
        "      if activation_function.lower() == \"relu\":\n",
        "        Z = self.relu(Y)\n",
        "      elif activation_function.lower() ==\"sigmoid\":\n",
        "        Z = self.sigmoid(Y)\n",
        "      elif activation_function.lower() ==\"tanh\":\n",
        "        Z = self.tanh(Y)\n",
        "      else:\n",
        "        print(\"NO ACTIVATION FUNCTION SELECTED\")\n",
        "\n",
        "      if i < len(self.activation):\n",
        "        self.activation[i] = Z\n",
        "      else:\n",
        "        self.activation.append(Z)\n",
        "      input = Z\n",
        "    #Calculating for the output layer.\n",
        "    i =  len(size)-2\n",
        "    Y = np.dot(input, self.W[i].T) + self.B[i]\n",
        "    # Y = self.normalize(Y)\n",
        "    if i < len(self.preactivation):\n",
        "        self.preactivation[i] = Y\n",
        "    else:\n",
        "      self.preactivation.append(Y)\n",
        "    Z = self.softmax(Y)\n",
        "    if i < len(self.activation):\n",
        "        self.activation[i] = Z\n",
        "    else:\n",
        "        self.activation.append(Z)\n",
        "    return self.preactivation, self.activation\n",
        "\n",
        "###############################################################\n",
        "\n",
        "\n",
        "  def backward(self, layers, x, y ,no_of_classes, preac, ac, activation_function=\"sigmoid\"):\n",
        "    no_layers = len(layers)\n",
        "    grad_a = [] \n",
        "    grad_w = []\n",
        "    grad_b = []\n",
        "    grad_h = []\n",
        "    y_onehot = self.one_hot_encoded(y, no_of_classes)\n",
        "    grad_a.append(-(y_onehot - ac[len(ac)-1]))\n",
        "\n",
        "    for i in range(no_layers-2, -1, -1):\n",
        "      if i == 0:\n",
        "        dw = (grad_a[no_layers-2-i].T @ x) #/ y.shape[0]\n",
        "        db = np.sum(grad_a[no_layers-2-i],axis=0)/y.shape[0]\n",
        "      else: \n",
        "        dw = (grad_a[no_layers-2-i].T @ ac[i-1])#/ y.shape[0]\n",
        "        db = np.sum(grad_a[no_layers-2-i],axis=0)/ y.shape[0]\n",
        "        dh_1 = grad_a[no_layers-2-i] @ self.W[i]\n",
        "        sig = 0 \n",
        "        if activation_function.lower() == \"sigmoid\":\n",
        "          sig = self.sigmoid_derivative(preac[i-1])\n",
        "        elif activation_function.lower() == \"relu\":\n",
        "          sig = self.relu_derivative(preac[i-1])\n",
        "        elif activation_function.lower() == \"tanh\":\n",
        "          sig = self.tanh_derivative(preac[i-1])\n",
        "        else:\n",
        "          print(\"CANNOT UPDATE WEIGHT AND BIASES !!\")\n",
        "\n",
        "        da_1 = dh_1 * sig\n",
        "\n",
        "        grad_h.append(dh_1)\n",
        "        grad_a.append(da_1)\n",
        "      grad_w.append(dw)\n",
        "      grad_b.append(db)\n",
        "    return grad_w, grad_b\n",
        "\n",
        "\n",
        "###############################################################\n",
        "\n",
        "\n",
        "  def gradient_descent(self, x_train, y_train, x_test, y_test, no_of_classes, layers, activation_function, eta, epochs):\n",
        "    l = len(layers)\n",
        "    loss_arr = []\n",
        "    for ep in range(epochs):\n",
        "      preac, ac = self.forward(x_train, layers, activation_function)\n",
        "      grad_w, grad_b = self.backward(layers, x_train, y_train, no_of_classes, preac, ac, activation_function)\n",
        "\n",
        "      for i in range(l-1):\n",
        "        self.W[i] += -eta * grad_w[l-i-2]\n",
        "        self.B[i] += -eta * grad_b[l-i-2]\n",
        "      # print(ac[len(ac)-1])\n",
        "      # preac, ac = self.forward(x, layers)\n",
        "      loss = self.cross_entropy(y_train, ac[len(ac)-1])\n",
        "      print(\"Iteration No : \\t\", ep+1, \"\\t Loss\\t\", loss)\n",
        "      loss_arr.append(loss)\n",
        "    accur = self.test_accuracy(layers, x_test, y_test, activation_function)\n",
        "    print(\"Accuracy\\t\", accur, \"%\")\n",
        "    self.PlotError(loss_arr)\n",
        "\n",
        "\n",
        "\n",
        "###############################################################\n",
        "\n",
        "\n",
        "  def batch_grad_descent(self, x_train, y_train, x_test, y_test, no_of_classes, layers, activation_function, eta, batch_size, n_iterations):\n",
        "    x_batch, y_batch = self.batch_converter(x_train, y_train, batch_size)\n",
        "    loss_arr = []\n",
        "    for i in range(n_iterations):\n",
        "      for j in range(len(x_batch)):\n",
        "        xb = x_batch[j]\n",
        "        yb = y_batch[j]\n",
        "        preac, ac = self.forward(xb, layers, activation_function)\n",
        "        grad_w, grad_b = self.backward(layers, xb, yb, no_of_classes,preac, ac, activation_function)\n",
        "        length = len(layers)\n",
        "        for l in range(length-1):\n",
        "          # print(\"shape\",self.W[l].shape, grad_w[length-l-2].shape)\n",
        "          self.W[l] += -eta * grad_w[length-l-2]\n",
        "          self.B[l] += -eta * grad_b[length-l-2]\n",
        "      loss = self.cross_entropy(yb, ac[len(ac)-1])\n",
        "      print(\"Iteration No : \\t\", i+1, \"\\t Loss\\t\", loss)\n",
        "      loss_arr.append(loss)\n",
        "    accur = self.test_accuracy(layers, x_test, y_test, activation_function)\n",
        "    print(\"Accuracy\\t\",accur, \"%\")\n",
        "    self.PlotError(loss_arr)\n",
        "\n",
        "\n",
        "###############################################################\n",
        "\n",
        "\n",
        "  def momentum_grad_descent(self, x_train, y_train, x_test, y_test, no_of_classes, layers, activation_function, batch_size, eta, epochs, beta):\n",
        "    l = len(layers)\n",
        "    prev_w = [] \n",
        "    prev_b = [] \n",
        "    loss_arr = []\n",
        "    for i in range(l-1):\n",
        "      prev_w.append(np.zeros(self.W[i].shape))\n",
        "      prev_b.append(np.zeros(self.B[i].shape))\n",
        "\n",
        "    x_batch, y_batch = self.batch_converter(x_train, y_train, batch_size)\n",
        "    for ep in range(epochs):\n",
        "      for j in range(len(x_batch)):\n",
        "        xb = x_batch[j]\n",
        "        yb = y_batch[j]\n",
        "        preac, ac = self.forward(xb, layers, activation_function)\n",
        "        grad_w, grad_b = self.backward(layers, xb, yb, no_of_classes, preac, ac, activation_function)\n",
        "        for i in range(l-1):\n",
        "          prev_w[i] = beta*prev_w[i] + grad_w[l-i-2]\n",
        "          prev_b[i] = beta*prev_b[i] + grad_b[l-i-2]\n",
        "          self.W[i] += -eta*prev_w[i]\n",
        "          self.B[i] += -eta*prev_b[i]\n",
        "      loss = self.cross_entropy(yb, ac[len(ac)-1])\n",
        "      print(\"Iteration No : \\t\", ep+1, \"\\t Loss\\t\", loss)\n",
        "      loss_arr.append(loss)\n",
        "    accur = self.test_accuracy(layers, x_test, y_test, activation_function)\n",
        "    print(\"Accuracy\\t\",accur, \"%\")\n",
        "    self.PlotError(loss_arr)\n",
        "\n",
        "\n",
        "###############################################################\n",
        "\n",
        "  def nesterov_gradient_descent(self, x_train, y_train, x_test, y_test, no_of_classes, layers, activation_function, batch_size, eta, epochs, beta):\n",
        "    l = len(layers)\n",
        "    prev_w = []\n",
        "    prev_b = []\n",
        "    loss_arr = []\n",
        "    for i in range(l-1):\n",
        "      prev_w.append(np.zeros(self.W[i].shape))\n",
        "      prev_b.append(np.zeros(self.B[i].shape))\n",
        "\n",
        "    x_batch, y_batch = self.batch_converter(x_train, y_train, batch_size)\n",
        "    \n",
        "    for ep in range(epochs):\n",
        "      for j in range(len(x_batch)):\n",
        "        xb = x_batch[j]\n",
        "        yb = y_batch[j]\n",
        "        # print(\"y_hat\", ac[len(ac)-1])\n",
        "        for i in range(l-1):\n",
        "          self.W[i] += -beta * prev_w[i]\n",
        "          self.B[i] += -beta * prev_b[i]\n",
        "        preac, ac = self.forward(xb, layers, activation_function)\n",
        "        grad_w, grad_b = self.backward(layers, xb, yb, no_of_classes, preac, ac, activation_function)\n",
        "        # print(\"grad_w\", grad_w)\n",
        "        for i in range(l-1):\n",
        "          prev_w[i] = beta * prev_w[i] + grad_w[l-i-2]\n",
        "          prev_b[i] = beta * prev_b[i] + grad_b[l-i-2]\n",
        "          self.W[i] += -eta * prev_w[i]\n",
        "          self.B[i] += -eta * prev_b[i]\n",
        "      loss = self.cross_entropy(yb, ac[len(ac)-1])\n",
        "      print(\"Iteration No : \\t\", ep+1, \"\\t Loss\\t\", loss)\n",
        "      loss_arr.append(loss)\n",
        "    accur = self.test_accuracy(layers, x_test, y_test, activation_function)\n",
        "    print(\"Accuracy\\t\",accur, \"%\")\n",
        "    self.PlotError(loss_arr)\n",
        "\n",
        "\n",
        "\n",
        "###############################################################\n",
        "\n",
        "\n",
        "  def rmsprop_gradient_descent(self, x_train, y_train, x_test, y_test, no_of_classes, layers, activation_function, batch_size, eta, epochs, beta):\n",
        "    l = len(layers)\n",
        "    vw = []\n",
        "    vb = []\n",
        "    loss_arr = []\n",
        "    eps = 1e-4\n",
        "    for i in range(l-1):\n",
        "      vw.append(np.zeros(self.W[i].shape))\n",
        "      vb.append(np.zeros(self.B[i].shape))\n",
        "\n",
        "    x_batch, y_batch = self.batch_converter(x_train, y_train, batch_size)\n",
        "    for ep in range(epochs):\n",
        "      for j in range(len(x_batch)):\n",
        "        xb = x_batch[j]\n",
        "        yb = y_batch[j]\n",
        "        preac, ac = self.forward(xb, layers, activation_function)\n",
        "        grad_w, grad_b = self.backward(layers, xb, yb, no_of_classes, preac, ac, activation_function)\n",
        "        for i in range(l-1):\n",
        "          vw[i] = beta * vw[i] + (1-beta) * grad_w[l-i-2] * grad_w[l-i-2]\n",
        "          vb[i] = beta * vb[i] + (1-beta) * grad_b[l-i-2] * grad_b[l-i-2]\n",
        "          self.W[i] =  self.W[i] - (eta * grad_w[l-i-2])/np.sqrt(vw[i] + eps)\n",
        "          self.B[i] =  self.B[i] - (eta * grad_b[l-i-2])/np.sqrt(vb[i] + eps)\n",
        "      loss = self.cross_entropy(yb, ac[len(ac)-1])\n",
        "      print(\"Iteration No : \\t\", ep+1, \"\\t Loss\\t\", loss)\n",
        "      loss_arr.append(loss)\n",
        "    accur = self.test_accuracy(layers, x_test, y_test, activation_function)\n",
        "    print(\"Accuracy\\t\",accur, \"%\")\n",
        "    self.PlotError(loss_arr)\n",
        "\n",
        "\n",
        "###############################################################\n",
        "\n",
        "\n",
        "  def adam_gradient_descent(self, x_train, y_train, x_test, y_test, no_of_classes, layers, activation_function, batch_size, eta, epochs, beta1, beta2):\n",
        "    l = len(layers)\n",
        "    mw = []\n",
        "    mb = []\n",
        "    vw = []\n",
        "    vb = []\n",
        "    loss_arr = []\n",
        "    eps = 1e-10\n",
        "    for i in range(l-1):\n",
        "      vw.append(np.zeros(self.W[i].shape))\n",
        "      vb.append(np.zeros(self.B[i].shape))\n",
        "      mw.append(np.zeros(self.W[i].shape))\n",
        "      mb.append(np.zeros(self.B[i].shape))\n",
        "    x_batch, y_batch = self.batch_converter(x_train, y_train, batch_size)\n",
        "    for ep in range(epochs):\n",
        "      for j in range(len(x_batch)):\n",
        "        xb = x_batch[j]\n",
        "        yb = y_batch[j]\n",
        "        preac, ac = self.forward(xb, layers, activation_function)\n",
        "        grad_w, grad_b = self.backward(layers, xb, yb, no_of_classes, preac, ac, activation_function)\n",
        "        for i in range(l-1):\n",
        "          mw[i] = beta1 * mw[i] + (1-beta1) * grad_w[l-i-2]\n",
        "          mb[i] = beta1 * mb[i] + (1-beta1) * grad_b[l-i-2]\n",
        "          mw_hat = mw[i] / (1 - np.power(beta1, j+1))\n",
        "          mb_hat = mb[i] / (1 - np.power(beta1, j+1))\n",
        "\n",
        "          vw[i] = beta2 * vw[i] + (1-beta2) * grad_w[l-i-2] * grad_w[l-i-2]\n",
        "          vb[i] = beta2 * vb[i] + (1-beta2) * grad_b[l-i-2] * grad_b[l-i-2]\n",
        "          vw_hat = vw[i] / (1 - np.power(beta2, j+1))\n",
        "          vb_hat = vb[i] / (1 - np.power(beta2, j+1))\n",
        "\n",
        "          self.W[i] = self.W[i] - (eta * mw_hat)/(np.sqrt(vw_hat) + eps)\n",
        "          self.B[i] = self.B[i] - (eta * mb_hat)/(np.sqrt(vb_hat) + eps)\n",
        "      loss = self.cross_entropy(yb, ac[len(ac)-1])\n",
        "      print(\"Iteration No : \\t\", ep+1, \"\\t Loss\\t\", loss)\n",
        "      loss_arr.append(loss)\n",
        "    accur = self.test_accuracy(layers, x_test, y_test, activation_function)\n",
        "    print(\"Accuracy\\t\",accur, \"%\")\n",
        "    self.PlotError(loss_arr)\n",
        "\n",
        "###############################################################\n",
        "\n",
        "\n",
        "  def nadam_gradient_descent(self, x_train, y_train, x_test, y_test, no_of_classes, layers, activation_function, batch_size, eta, epochs, beta1, beta2):\n",
        "    l = len(layers)\n",
        "    mw = []\n",
        "    mb = []\n",
        "    vw = []\n",
        "    vb = []\n",
        "    loss_arr = []\n",
        "    eps = 1e-10\n",
        "    for i in range(l-1):\n",
        "      vw.append(np.zeros(self.W[i].shape))\n",
        "      vb.append(np.zeros(self.B[i].shape))\n",
        "      mw.append(np.zeros(self.W[i].shape))\n",
        "      mb.append(np.zeros(self.B[i].shape))\n",
        "    x_batch, y_batch = self.batch_converter(x_train, y_train, batch_size)\n",
        "    for ep in range(epochs):\n",
        "      for j in range(len(x_batch)):\n",
        "        xb = x_batch[j]\n",
        "        yb = y_batch[j]\n",
        "        preac, ac = self.forward(xb, layers, activation_function)\n",
        "        grad_w, grad_b = self.backward(layers, xb, yb, no_of_classes, preac, ac, activation_function)\n",
        "        for i in range(l-1): \n",
        "          mw[i] = beta1 * mw[i] + (1-beta1)* grad_w[l-i-2]\n",
        "          mb[i] = beta1 * mb[i] + (1-beta1)* grad_b[l-i-2]\n",
        "          mw_hat = mw[i] / (1 - np.power(beta1, j+1))\n",
        "          mb_hat = mb[i] / (1 - np.power(beta1, j+1))\n",
        "\n",
        "          vw[i] = beta2 * vw[i] + (1-beta2) * grad_w[l-i-2] * grad_w[l-i-2]\n",
        "          vb[i] = beta2 * vb[i] + (1-beta2) * grad_b[l-i-2] * grad_b[l-i-2]\n",
        "          vw_hat = vw[i] / (1 - np.power(beta2, j+1))\n",
        "          vb_hat = vb[i] / (1 - np.power(beta2, j+1))\n",
        "\n",
        "          self.W[i] = self.W[i] - (eta/(np.sqrt(vw[i]) + eps)) * (beta1 * mw_hat + (((1-beta1) * grad_w[l-i-2]) / (1 - np.power(beta1, j+1))))\n",
        "          self.B[i] = self.B[i] - (eta/(np.sqrt(vb[i]) + eps)) * (beta1 * mb_hat + (((1-beta1) * grad_b[l-i-2]) / (1 - np.power(beta1, j+1))))\n",
        "      loss = self.cross_entropy(yb, ac[len(ac)-1])\n",
        "      print(\"Iteration No : \\t\", ep+1, \"\\t Loss\\t\", loss)\n",
        "      loss_arr.append(loss)\n",
        "    accur = self.test_accuracy(layers, x_test, y_test, activation_function)\n",
        "    print(\"Accuracy\\t\",accur, \"%\")\n",
        "    self.PlotError(loss_arr)\n",
        "\n",
        "\n",
        "###############################################################\n",
        "\n",
        "  def test_accuracy(self, layers, x, y, activation_function):\n",
        "    preac, ac = self.forward(x, layers, activation_function)\n",
        "    y_pred = ac[len(ac)-1]\n",
        "    err_count = 0\n",
        "    for i in range(y_pred.shape[0]):\n",
        "      maxval = -(math.inf)\n",
        "      maxind= -1\n",
        "      for j in range(y_pred.shape[1]): \n",
        "        if maxval < y_pred[i][j]:\n",
        "          maxval = y_pred[i][j]\n",
        "          maxind = j\n",
        "      if maxind != y[i]:\n",
        "        err_count = err_count + 1\n",
        "    return ((y.shape[0] - err_count)/y.shape[0])*100\n",
        "      \n",
        "###############################################################\n",
        "  def PlotError(self, ErrorSum):\n",
        "    Iter = [] \n",
        "    for i in range(len(ErrorSum)):\n",
        "      Iter.append(i)\n",
        "    plt.plot(Iter,ErrorSum)\n",
        "    plt.title('Error v/s Iteration')\n",
        "    plt.xlabel('No of Iterations')\n",
        "    plt.ylabel('Error')\n",
        "    plt.show()\n"
      ],
      "metadata": {
        "id": "eElQPRNABGNF"
      },
      "execution_count": 5,
      "outputs": []
    },
    {
      "cell_type": "markdown",
      "source": [
        "#Batch Gradient Descent"
      ],
      "metadata": {
        "id": "RbhfxkM7dyRX"
      }
    },
    {
      "cell_type": "code",
      "source": [
        "#weight initialisation : \"random\", \"xavier\" \n",
        "wt_initialisation = \"xavier\"\n",
        "epoch = 10\n",
        "eta = 0.001\n",
        "layers = [784, 256, 10]\n",
        "no_of_classes = 10\n",
        "nn = NN(layers, wt_initialisation)\n",
        "# activation_function  : \"relu\", \"tanh\" , \"sigmoid\"\n",
        "activation_function = \"sigmoid\"\n",
        "batch_size = 60\n",
        "\n",
        "nn.batch_grad_descent(x_train, y_train, x_test, y_test, no_of_classes, layers, activation_function, eta, batch_size, epoch)\n"
      ],
      "metadata": {
        "colab": {
          "base_uri": "https://localhost:8080/",
          "height": 486
        },
        "id": "zxrVj3Aw9VH0",
        "outputId": "5f155410-84f7-42a0-ac70-812a0066a689"
      },
      "execution_count": 6,
      "outputs": [
        {
          "output_type": "stream",
          "name": "stdout",
          "text": [
            "Iteration No : \t 1 \t Loss\t 0.930894703909189\n",
            "Iteration No : \t 2 \t Loss\t 0.7936001679345268\n",
            "Iteration No : \t 3 \t Loss\t 0.7272817783495608\n",
            "Iteration No : \t 4 \t Loss\t 0.681905564817935\n",
            "Iteration No : \t 5 \t Loss\t 0.6457571869394967\n",
            "Iteration No : \t 6 \t Loss\t 0.6155387030435702\n",
            "Iteration No : \t 7 \t Loss\t 0.5897094654462023\n",
            "Iteration No : \t 8 \t Loss\t 0.5672032453230514\n",
            "Iteration No : \t 9 \t Loss\t 0.5472388886920606\n",
            "Iteration No : \t 10 \t Loss\t 0.5292700182761452\n",
            "Accuracy\t 84.2 %\n"
          ]
        },
        {
          "output_type": "display_data",
          "data": {
            "text/plain": [
              "<Figure size 432x288 with 1 Axes>"
            ],
            "image/png": "[encoded data removed]"
          },
          "metadata": {
            "needs_background": "light"
          }
        }
      ]
    },
    {
      "cell_type": "markdown",
      "source": [
        "# Vanilla Gradient Descent"
      ],
      "metadata": {
        "id": "AlEYWCg0mtLB"
      }
    },
    {
      "cell_type": "code",
      "source": [
        "#weight initialisation : \"random\", \"xavier\" \n",
        "wt_initialisation = \"xavier\"\n",
        "epoch = 5\n",
        "eta = 0.0000001\n",
        "layers = [784, 128, 10]\n",
        "no_of_classes = 10\n",
        "nn = NN(layers, wt_initialisation)\n",
        "# activation_function  : \"relu\", \"tanh\" , \"sigmoid\"\n",
        "activation_function = \"tanh\"\n",
        "nn.gradient_descent(x_train, y_train,x_test, y_test, no_of_classes, layers, activation_function, eta, epoch)\n",
        "  "
      ],
      "metadata": {
        "colab": {
          "base_uri": "https://localhost:8080/",
          "height": 399
        },
        "id": "ZAnDgkWYWC-d",
        "outputId": "7c499c89-a829-4da4-b659-4eb7871ba992"
      },
      "execution_count": 7,
      "outputs": [
        {
          "output_type": "stream",
          "name": "stdout",
          "text": [
            "Iteration No : \t 1 \t Loss\t 3.5317617000017805\n",
            "Iteration No : \t 2 \t Loss\t 3.4955947221663917\n",
            "Iteration No : \t 3 \t Loss\t 3.4619104439950674\n",
            "Iteration No : \t 4 \t Loss\t 3.43041632917834\n",
            "Iteration No : \t 5 \t Loss\t 3.400851630906275\n",
            "Accuracy\t 4.24 %\n"
          ]
        },
        {
          "output_type": "display_data",
          "data": {
            "text/plain": [
              "<Figure size 432x288 with 1 Axes>"
            ],
            "image/png": "[encoded data removed]"
          },
          "metadata": {
            "needs_background": "light"
          }
        }
      ]
    },
    {
      "cell_type": "markdown",
      "source": [
        "# Momentum Gradient Descent"
      ],
      "metadata": {
        "id": "4u_RpwPLz8D9"
      }
    },
    {
      "cell_type": "code",
      "source": [
        "#weight initialisation : \"random\", \"xavier\" \n",
        "wt_initialisation = \"xavier\"\n",
        "epoch = 10\n",
        "eta = 0.0001\n",
        "beta = 0.1\n",
        "layers = [784, 128, 10]\n",
        "# activation_function  : \"relu\", \"tanh\" , \"sigmoid\"\n",
        "activation_function = \"tanh\"\n",
        "no_of_classes = 10\n",
        "batch_size = 1024\n",
        "nn = NN(layers, wt_initialisation)\n",
        "nn.momentum_grad_descent(x_train, y_train, x_test, y_test, no_of_classes, layers, activation_function, batch_size, eta, epoch, beta)"
      ],
      "metadata": {
        "colab": {
          "base_uri": "https://localhost:8080/",
          "height": 486
        },
        "id": "P4nDyLrYsbmR",
        "outputId": "08c9f55c-4d45-4e34-b67a-8828532c5767"
      },
      "execution_count": 9,
      "outputs": [
        {
          "output_type": "stream",
          "name": "stdout",
          "text": [
            "Iteration No : \t 1 \t Loss\t 1.0313160869408038\n",
            "Iteration No : \t 2 \t Loss\t 0.8822960917018721\n",
            "Iteration No : \t 3 \t Loss\t 0.8170727616711584\n",
            "Iteration No : \t 4 \t Loss\t 0.7791488380989614\n",
            "Iteration No : \t 5 \t Loss\t 0.753781308204003\n",
            "Iteration No : \t 6 \t Loss\t 0.7356601623028531\n",
            "Iteration No : \t 7 \t Loss\t 0.7218206770254106\n",
            "Iteration No : \t 8 \t Loss\t 0.7106186077698687\n",
            "Iteration No : \t 9 \t Loss\t 0.7010670642635995\n",
            "Iteration No : \t 10 \t Loss\t 0.6930667316991955\n",
            "Accuracy\t 81.13 %\n"
          ]
        },
        {
          "output_type": "display_data",
          "data": {
            "text/plain": [
              "<Figure size 432x288 with 1 Axes>"
            ],
            "image/png": "[encoded data removed]"
          },
          "metadata": {
            "needs_background": "light"
          }
        }
      ]
    },
    {
      "cell_type": "markdown",
      "source": [
        "#Netserov Gradient Descent"
      ],
      "metadata": {
        "id": "BYt1DK9YyXMQ"
      }
    },
    {
      "cell_type": "code",
      "source": [
        "#weight initialisation : \"random\", \"xavier\" \n",
        "wt_initialisation = \"xavier\"\n",
        "epoch = 10\n",
        "eta = 0.001\n",
        "beta = 0.001\n",
        "layers = [784, 128, 10]\n",
        "# activation_function  : \"relu\", \"tanh\" , \"sigmoid\"\n",
        "activation_function = \"Sigmoid\"\n",
        "no_of_classes = 10\n",
        "batch_size = 1024\n",
        "nn = NN(layers, wt_initialisation)\n",
        "nn.nesterov_gradient_descent(x_train, y_train, x_test, y_test, no_of_classes, layers, activation_function, batch_size, eta, epoch, beta)"
      ],
      "metadata": {
        "id": "n89-rmMueq27",
        "colab": {
          "base_uri": "https://localhost:8080/",
          "height": 486
        },
        "outputId": "46f26e1b-f0e5-4377-f97a-95d46e137f8c"
      },
      "execution_count": 10,
      "outputs": [
        {
          "output_type": "stream",
          "name": "stdout",
          "text": [
            "Iteration No : \t 1 \t Loss\t 1.0023788430475857\n",
            "Iteration No : \t 2 \t Loss\t 0.7397081323452067\n",
            "Iteration No : \t 3 \t Loss\t 0.6718504007796225\n",
            "Iteration No : \t 4 \t Loss\t 0.6197745838796324\n",
            "Iteration No : \t 5 \t Loss\t 0.6408117395454249\n",
            "Iteration No : \t 6 \t Loss\t 0.6005068056472581\n",
            "Iteration No : \t 7 \t Loss\t 0.5840482669626401\n",
            "Iteration No : \t 8 \t Loss\t 0.5765780595391635\n",
            "Iteration No : \t 9 \t Loss\t 0.547047209155684\n",
            "Iteration No : \t 10 \t Loss\t 0.5328906355771273\n",
            "Accuracy\t 84.77 %\n"
          ]
        },
        {
          "output_type": "display_data",
          "data": {
            "text/plain": [
              "<Figure size 432x288 with 1 Axes>"
            ],
            "image/png": "[encoded data removed]"
          },
          "metadata": {
            "needs_background": "light"
          }
        }
      ]
    },
    {
      "cell_type": "markdown",
      "source": [
        "# RMS Prop Gradient Descent"
      ],
      "metadata": {
        "id": "yHUuadCr0p9g"
      }
    },
    {
      "cell_type": "code",
      "source": [
        "#weight initialisation : \"random\", \"xavier\" \n",
        "wt_initialisation = \"random\"\n",
        "epoch = 20\n",
        "eta = 0.001\n",
        "beta = 0.9\n",
        "layers = [784, 128, 10]\n",
        "# activation_function  : \"relu\", \"tanh\" , \"sigmoid\"\n",
        "activation_function = \"sigmoid\"\n",
        "no_of_classes = 10\n",
        "batch_size = 1024\n",
        "nn = NN(layers. wt_initialisation)\n",
        "nn.rmsprop_gradient_descent(x_train, y_train, x_test, y_test, no_of_classes, layers, activation_function, batch_size, eta, epoch, beta)"
      ],
      "metadata": {
        "colab": {
          "base_uri": "https://localhost:8080/",
          "height": 660
        },
        "id": "x9mVC3b1yY8u",
        "outputId": "c911a3c2-f18a-4906-c6ac-5efbac4891a3"
      },
      "execution_count": null,
      "outputs": [
        {
          "output_type": "stream",
          "name": "stdout",
          "text": [
            "Iteration No : \t 1 \t Loss\t 1.931525330026707\n",
            "Iteration No : \t 2 \t Loss\t 1.1954328061431283\n",
            "Iteration No : \t 3 \t Loss\t 0.9058842615311472\n",
            "Iteration No : \t 4 \t Loss\t 0.7673745825061116\n",
            "Iteration No : \t 5 \t Loss\t 0.6898940327237365\n",
            "Iteration No : \t 6 \t Loss\t 0.6420898120286201\n",
            "Iteration No : \t 7 \t Loss\t 0.6085613490881956\n",
            "Iteration No : \t 8 \t Loss\t 0.5844685335166118\n",
            "Iteration No : \t 9 \t Loss\t 0.5658240064655192\n",
            "Iteration No : \t 10 \t Loss\t 0.5506127631775349\n",
            "Iteration No : \t 11 \t Loss\t 0.5380366534236536\n",
            "Iteration No : \t 12 \t Loss\t 0.5272712649855645\n",
            "Iteration No : \t 13 \t Loss\t 0.5177945905115967\n",
            "Iteration No : \t 14 \t Loss\t 0.5092461863121375\n",
            "Iteration No : \t 15 \t Loss\t 0.5013050956118528\n",
            "Iteration No : \t 16 \t Loss\t 0.4941146193202872\n",
            "Iteration No : \t 17 \t Loss\t 0.4875749987301403\n",
            "Iteration No : \t 18 \t Loss\t 0.4815145742966712\n",
            "Iteration No : \t 19 \t Loss\t 0.47599420987795515\n",
            "Iteration No : \t 20 \t Loss\t 0.4708004166267894\n",
            "Accuracy\t 86.25 %\n"
          ]
        },
        {
          "output_type": "display_data",
          "data": {
            "text/plain": [
              "<Figure size 432x288 with 1 Axes>"
            ],
            "image/png": "[encoded data removed]"
          },
          "metadata": {
            "needs_background": "light"
          }
        }
      ]
    },
    {
      "cell_type": "markdown",
      "source": [
        "# Adam Gradient Descent"
      ],
      "metadata": {
        "id": "tBJ37seS-UQg"
      }
    },
    {
      "cell_type": "code",
      "source": [
        "#weight initialisation : \"random\", \"xavier\" \n",
        "wt_initialisation = \"random\"\n",
        "epoch = 10\n",
        "eta = 0.01\n",
        "beta1 = 0.9\n",
        "beta2 = 0.999\n",
        "layers = [784, 128, 10]\n",
        "# activation_function  : \"relu\", \"tanh\" , \"sigmoid\"\n",
        "activation_function = \"sigmoid\"\n",
        "no_of_classes = 10\n",
        "batch_size = 1024\n",
        "nn = NN(layers, wt_initialisation)\n",
        "nn.adam_gradient_descent(x_train, y_train, x_test, y_test, no_of_classes, layers, activation_function, batch_size, eta, epoch, beta1, beta2)"
      ],
      "metadata": {
        "colab": {
          "base_uri": "https://localhost:8080/",
          "height": 486
        },
        "id": "V-RjiHcN92kr",
        "outputId": "26966294-61a0-4c81-8c61-5a17d73161d9"
      },
      "execution_count": null,
      "outputs": [
        {
          "output_type": "stream",
          "name": "stdout",
          "text": [
            "Iteration No : \t 1 \t Loss\t 0.7373635989868913\n",
            "Iteration No : \t 2 \t Loss\t 0.6058393088888391\n",
            "Iteration No : \t 3 \t Loss\t 0.5534002092095024\n",
            "Iteration No : \t 4 \t Loss\t 0.5205612772091172\n",
            "Iteration No : \t 5 \t Loss\t 0.4961253122501319\n",
            "Iteration No : \t 6 \t Loss\t 0.47664044719136084\n",
            "Iteration No : \t 7 \t Loss\t 0.4608388936439034\n",
            "Iteration No : \t 8 \t Loss\t 0.4495539911826278\n",
            "Iteration No : \t 9 \t Loss\t 0.43950010116729527\n",
            "Iteration No : \t 10 \t Loss\t 0.43107527100054494\n",
            "Accuracy\t 87.06 %\n"
          ]
        },
        {
          "output_type": "display_data",
          "data": {
            "text/plain": [
              "<Figure size 432x288 with 1 Axes>"
            ],
            "image/png": "[encoded data removed]"
          },
          "metadata": {
            "needs_background": "light"
          }
        }
      ]
    },
    {
      "cell_type": "markdown",
      "source": [
        "# NAdam Gradient Descent"
      ],
      "metadata": {
        "id": "uYOo4AxHEi6t"
      }
    },
    {
      "cell_type": "code",
      "source": [
        "#weight initialisation : \"random\", \"xavier\" \n",
        "wt_initialisation = \"random\"\n",
        "epoch = 20\n",
        "eta = 0.01\n",
        "beta1 = 0.9\n",
        "beta2 = 0.999\n",
        "layers = [784, 128, 10]\n",
        "# activation_function  : \"relu\", \"tanh\" , \"sigmoid\"\n",
        "activation_function = \"sigmoid\"\n",
        "no_of_classes = 10\n",
        "batch_size = 1024\n",
        "nn = NN(layers, wt_initialisation)\n",
        "nn.nadam_gradient_descent(x_train, y_train, x_test, y_test, no_of_classes, layers, activation_function, batch_size, eta, epoch, beta1, beta2)"
      ],
      "metadata": {
        "colab": {
          "base_uri": "https://localhost:8080/",
          "height": 660
        },
        "id": "m48OiSVvCt-z",
        "outputId": "9254420b-eb84-4ef5-8d42-7bd8e4d81db7"
      },
      "execution_count": null,
      "outputs": [
        {
          "output_type": "stream",
          "name": "stdout",
          "text": [
            "Iteration No : \t 1 \t Loss\t 1.7754127500011123\n",
            "Iteration No : \t 2 \t Loss\t 1.3969621594779553\n",
            "Iteration No : \t 3 \t Loss\t 1.2274080964298577\n",
            "Iteration No : \t 4 \t Loss\t 1.0770809651044375\n",
            "Iteration No : \t 5 \t Loss\t 1.019123019487213\n",
            "Iteration No : \t 6 \t Loss\t 0.9748651503571305\n",
            "Iteration No : \t 7 \t Loss\t 0.9463185863693312\n",
            "Iteration No : \t 8 \t Loss\t 0.8730792054834119\n",
            "Iteration No : \t 9 \t Loss\t 0.8030447480257326\n",
            "Iteration No : \t 10 \t Loss\t 0.7811517070303758\n",
            "Iteration No : \t 11 \t Loss\t 0.7639120784160695\n",
            "Iteration No : \t 12 \t Loss\t 0.7393310865243649\n",
            "Iteration No : \t 13 \t Loss\t 0.725102354508218\n",
            "Iteration No : \t 14 \t Loss\t 0.7181269533518235\n",
            "Iteration No : \t 15 \t Loss\t 0.7084953002503241\n",
            "Iteration No : \t 16 \t Loss\t 0.6925882248027084\n",
            "Iteration No : \t 17 \t Loss\t 0.6774700108908491\n",
            "Iteration No : \t 18 \t Loss\t 0.6680489171600087\n",
            "Iteration No : \t 19 \t Loss\t 0.6732687625146365\n",
            "Iteration No : \t 20 \t Loss\t 0.6551444071035808\n",
            "Accuracy\t 82.01 %\n"
          ]
        },
        {
          "output_type": "display_data",
          "data": {
            "text/plain": [
              "<Figure size 432x288 with 1 Axes>"
            ],
            "image/png": "[encoded data removed]"
          },
          "metadata": {
            "needs_background": "light"
          }
        }
      ]
    }
  ]
}